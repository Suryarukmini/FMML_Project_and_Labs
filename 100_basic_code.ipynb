{
  "nbformat": 4,
  "nbformat_minor": 0,
  "metadata": {
    "colab": {
      "provenance": [],
      "toc_visible": true,
      "authorship_tag": "ABX9TyOCgl7qTf00u4VQu8knfgmH",
      "include_colab_link": true
    },
    "kernelspec": {
      "name": "python3",
      "display_name": "Python 3"
    },
    "language_info": {
      "name": "python"
    }
  },
  "cells": [
    {
      "cell_type": "markdown",
      "metadata": {
        "id": "view-in-github",
        "colab_type": "text"
      },
      "source": [
        "<a href=\"https://colab.research.google.com/github/Suryarukmini/FMML_Project_and_Labs/blob/main/100_basic_code.ipynb\" target=\"_parent\"><img src=\"https://colab.research.google.com/assets/colab-badge.svg\" alt=\"Open In Colab\"/></a>"
      ]
    },
    {
      "cell_type": "code",
      "execution_count": null,
      "metadata": {
        "colab": {
          "base_uri": "https://localhost:8080/"
        },
        "id": "N7gpntBhGarK",
        "outputId": "5b3b406e-d1cc-4a84-c712-4425a5b498ad"
      },
      "outputs": [
        {
          "output_type": "stream",
          "name": "stdout",
          "text": [
            "enter a number8\n",
            "positive no\n"
          ]
        }
      ],
      "source": [
        "#01 the given number is negitive or positive\n",
        "n=int(input(\"enter a number\"))\n",
        "if n>0:\n",
        "  print(\"positive no\")\n",
        "elif n<0:\n",
        "  print(\"negative no\")\n",
        "else:\n",
        "  print(\"zero\")\n"
      ]
    },
    {
      "cell_type": "code",
      "source": [
        "#02 the given is even or odd\n",
        "n=int(input(\"enter a number\"))\n",
        "if n%2==0:\n",
        "  print(\"even no\")\n",
        "else:\n",
        "  print(\"odd no\")"
      ],
      "metadata": {
        "colab": {
          "base_uri": "https://localhost:8080/"
        },
        "id": "mA5yRXoFHS75",
        "outputId": "5ffcde8a-a4dc-4d42-9693-eac1e6073718"
      },
      "execution_count": null,
      "outputs": [
        {
          "output_type": "stream",
          "name": "stdout",
          "text": [
            "enter a number7\n",
            "odd no\n"
          ]
        }
      ]
    },
    {
      "cell_type": "code",
      "source": [
        "# 03 greatest in 3 no\n",
        "n1=4\n",
        "n2=9\n",
        "n2=4\n",
        "if n1>n2 and n1>n3:\n",
        "  print(\"n1 is the greatestn no\")\n",
        "elif n2>n1 and n2>n3:\n",
        "  print(\"n2 is the greatest no\")\n",
        "else:\n",
        "  print(\"n3 is the greastest no\")"
      ],
      "metadata": {
        "colab": {
          "base_uri": "https://localhost:8080/"
        },
        "id": "TQYfX-FBIasm",
        "outputId": "1d2a3e21-1c72-4357-bb60-58e4fd19c2ca"
      },
      "execution_count": null,
      "outputs": [
        {
          "output_type": "stream",
          "name": "stdout",
          "text": [
            "n3 is the greastest no\n"
          ]
        }
      ]
    },
    {
      "cell_type": "code",
      "source": [
        "# 04 sum n of n natural numbers\n",
        "\n",
        "# using for loop\n",
        "\n",
        "n=int(input(\"enter a number\" ))\n",
        "s=0\n",
        "for i in range (1,n+1):\n",
        "  s=s+i\n",
        "print(s)\n",
        "\n",
        "# using recursing\n",
        "def Naturalnum(num):\n",
        "  if num==1:\n",
        "    return 1\n",
        "  return num + Naturalnum(num-1)\n",
        "num = int(input(\"enter a number:\"))\n",
        "print(Naturalnum(num))"
      ],
      "metadata": {
        "colab": {
          "base_uri": "https://localhost:8080/"
        },
        "id": "m0cYtk47KTXq",
        "outputId": "5bae47fd-0b54-4135-afbf-a360936171ef"
      },
      "execution_count": null,
      "outputs": [
        {
          "output_type": "stream",
          "name": "stdout",
          "text": [
            "enter a number9\n",
            "45\n",
            "enter a number:5\n",
            "15\n"
          ]
        }
      ]
    },
    {
      "cell_type": "code",
      "source": [
        "\n",
        "#05 leap or not\n",
        "year= int(input(\"enter the year \"))\n",
        "if( year %4==0 and year % 100 !=0) or (year %400==0):\n",
        "  print(\"leap year\")\n",
        "else:\n",
        "  print(\"not a leap year\")"
      ],
      "metadata": {
        "colab": {
          "base_uri": "https://localhost:8080/"
        },
        "id": "5NlgOiXwO7-n",
        "outputId": "1f63e4a0-ad62-4514-b501-05475492866d"
      },
      "execution_count": 11,
      "outputs": [
        {
          "output_type": "stream",
          "name": "stdout",
          "text": [
            "enter the year 2222\n",
            "not a leap year\n"
          ]
        }
      ]
    },
    {
      "cell_type": "code",
      "source": [
        "#06 prime number or not\n",
        "n=int(input(\"enter a number\"))\n",
        "f=0\n",
        "for i in range(1,n+1):\n",
        "  if n%i==0:\n",
        "   f=f+1\n",
        "\n",
        "if f==2:\n",
        "  print(\"prime no\")\n",
        "else:\n",
        "  print(\"not a prime no\")"
      ],
      "metadata": {
        "colab": {
          "base_uri": "https://localhost:8080/"
        },
        "id": "GHYN-9LBmGmI",
        "outputId": "7aa1c0d3-0f7d-43dc-a448-efcc128ceb34"
      },
      "execution_count": 17,
      "outputs": [
        {
          "output_type": "stream",
          "name": "stdout",
          "text": [
            "enter a number3\n",
            "prime no\n"
          ]
        }
      ]
    },
    {
      "cell_type": "code",
      "source": [
        "#07 sum of the digits of the number\n",
        "\n",
        "#using while loop\n",
        "\n",
        "n=int(input(\"enter the number\"))\n",
        "sum=0\n",
        "while n>0:\n",
        "  r=n%10\n",
        "  sum=sum+r\n",
        "  n=n//10\n",
        "print(sum)\n",
        "\n",
        "# using for loop\n",
        "\n",
        "n=int(input(\"enter aa number\"))\n",
        "s=0\n",
        "for i in range(n):\n",
        "  r=n%10\n",
        "  s=s+r\n",
        "  n=n//10\n",
        "print(s)\n"
      ],
      "metadata": {
        "colab": {
          "base_uri": "https://localhost:8080/"
        },
        "id": "r6a_5UX726Zy",
        "outputId": "d9dbecb8-ed71-4d6c-b25f-02206b34b84d"
      },
      "execution_count": null,
      "outputs": [
        {
          "output_type": "stream",
          "name": "stdout",
          "text": [
            "enter the number999\n",
            "27\n",
            "enter aa number999\n",
            "27\n"
          ]
        }
      ]
    },
    {
      "cell_type": "code",
      "source": [
        "#08 reverse number\n",
        "\n",
        "# method 1\n",
        "n=int(input(\"enter the number\"))\n",
        "rev=0\n",
        "while n>0:\n",
        "  r=n%10\n",
        "  rev=rev*10+r\n",
        "  n=n//10\n",
        "print(rev)\n",
        "\n",
        "# method 2\n",
        "\n",
        "n=int(input(\"enter the nunmber\"))\n",
        "rev=0\n",
        "while n>0:\n",
        "  r=n%10\n",
        "  print(r,end=\"\")\n",
        "  n=n//10"
      ],
      "metadata": {
        "id": "zOJ_9dNb_ELA",
        "colab": {
          "base_uri": "https://localhost:8080/"
        },
        "outputId": "7ff098bf-4240-401c-f752-9c52ad962207"
      },
      "execution_count": 18,
      "outputs": [
        {
          "output_type": "stream",
          "name": "stdout",
          "text": [
            "enter the number876\n",
            "678\n",
            "enter the nunmber9898\n",
            "8989"
          ]
        }
      ]
    },
    {
      "cell_type": "code",
      "source": [
        "#09 armstong number or not\n",
        "n=int(input(\"enter the number\"))\n",
        "t=n\n",
        "s=0\n",
        "d=0\n",
        "while n>0:\n",
        "  r=n%10\n",
        "  d=d+1\n",
        "  n=n//10\n",
        "n=t\n",
        "while n>0:\n",
        "  r=n%10\n",
        "  s=s+r**d\n",
        "  n=n//10\n",
        "if s==t:\n",
        "  print(\"armstong no\")\n",
        "else:\n",
        "  print(\"not a armstong no\")\n"
      ],
      "metadata": {
        "colab": {
          "base_uri": "https://localhost:8080/"
        },
        "id": "07wDp3lZBPe0",
        "outputId": "b54a2788-cb55-4a6b-af43-e42f73d93fc9"
      },
      "execution_count": 20,
      "outputs": [
        {
          "output_type": "stream",
          "name": "stdout",
          "text": [
            "enter the number153\n",
            "armstong no\n"
          ]
        }
      ]
    },
    {
      "cell_type": "code",
      "source": [
        "#10fibinoci serie\n",
        "a=0\n",
        "b=1\n",
        "c=1\n",
        "print(a,b,end=\" \")\n",
        "while c<=10:\n",
        "  c=a+b\n",
        "  print(c ,end=\" \")\n",
        "  a=b\n",
        "  b=c"
      ],
      "metadata": {
        "id": "5IVOZI9oGMj0",
        "colab": {
          "base_uri": "https://localhost:8080/"
        },
        "outputId": "6aa24a93-35e6-4808-f009-0d38092ec25a"
      },
      "execution_count": 25,
      "outputs": [
        {
          "output_type": "stream",
          "name": "stdout",
          "text": [
            "0 1 1 2 3 5 8 13 "
          ]
        }
      ]
    },
    {
      "cell_type": "code",
      "source": [
        "#11 factorial\n",
        "\n",
        "#using for loop\n",
        "n=int(input(\"enter the number\"))\n",
        "fact=1\n",
        "for i in range (1,n+1):\n",
        "  fact=fact*i\n",
        "print(fact)\n",
        "\n",
        "#using while loop\n",
        "\n",
        "n=int(input(\"enter the number\"))\n",
        "fact=1\n",
        "while n>0:\n",
        "  fact=fact*n\n",
        "  n=n-1\n",
        "print(fact)"
      ],
      "metadata": {
        "id": "u8C2YiMF2qjT",
        "colab": {
          "base_uri": "https://localhost:8080/"
        },
        "outputId": "4ffc52ec-d1a0-46d8-9d4b-e2b10d4173c9"
      },
      "execution_count": null,
      "outputs": [
        {
          "output_type": "stream",
          "name": "stdout",
          "text": [
            "enter the number9\n",
            "362880\n",
            "enter the number9\n",
            "362880\n"
          ]
        }
      ]
    },
    {
      "cell_type": "code",
      "source": [
        "#12 power of a number\n",
        "base=int(input(\"enter the base:\"))\n",
        "power=int(input(\"enter the power\"))\n",
        "outcome=1\n",
        "for i in range(1,power+1):\n",
        "  outcome=outcome*base\n",
        "print(outcome)\n",
        "\n",
        "\n",
        "\n"
      ],
      "metadata": {
        "id": "ZLqmiGF2Qcx_",
        "colab": {
          "base_uri": "https://localhost:8080/"
        },
        "outputId": "1da0f3d0-d6ab-47db-df81-d7892d34b7fb"
      },
      "execution_count": 31,
      "outputs": [
        {
          "output_type": "stream",
          "name": "stdout",
          "text": [
            "enter the base:5\n",
            "enter the power3\n",
            "125\n"
          ]
        }
      ]
    },
    {
      "cell_type": "code",
      "source": [
        "#13 factors of the number\n",
        "n=int(input(\"enter the number\"))\n",
        "for i in range(1,n+1):\n",
        "  if n%i==0:\n",
        "    print(i,end=\" \")"
      ],
      "metadata": {
        "colab": {
          "base_uri": "https://localhost:8080/"
        },
        "id": "4KlAiZFpWQly",
        "outputId": "25724dc1-b982-4cb9-8be0-a07f88f05ede"
      },
      "execution_count": null,
      "outputs": [
        {
          "output_type": "stream",
          "name": "stdout",
          "text": [
            "enter the number8\n",
            "1 2 4 8 "
          ]
        }
      ]
    },
    {
      "cell_type": "code",
      "source": [
        "#14 strong number or not\n",
        "# 145= 1!+4!+5!=145 is called strong\n",
        "n=int(input(\"enter a number\"))\n",
        "s=0\n",
        "t=n\n",
        "\n",
        "while n>0:\n",
        "  r=n%10\n",
        "  f=1\n",
        "  for i in range (1,r+1):\n",
        "    f=f*i\n",
        "  s=s+f\n",
        "  n=n//10\n",
        "if s==t:\n",
        "  print(\"strong no\")\n",
        "else:\n",
        "  print(\"not a strong no\")\n",
        "\n",
        "\n",
        "\n"
      ],
      "metadata": {
        "id": "i2Wa3BK5XTcD",
        "colab": {
          "base_uri": "https://localhost:8080/"
        },
        "outputId": "0d922a66-bcba-4350-cd87-93fc8dbfad4f"
      },
      "execution_count": 36,
      "outputs": [
        {
          "output_type": "stream",
          "name": "stdout",
          "text": [
            "enter a number145\n",
            "strong no\n"
          ]
        }
      ]
    },
    {
      "cell_type": "code",
      "source": [
        "#15 perfect number or not\n",
        "n=int(input (\"enter a number :\"))\n",
        "s=0\n",
        "#t=n in while loop we declared this\n",
        "for i in range (1,n):\n",
        "  r=n%i\n",
        "  if r==0:\n",
        "    s=s+i\n",
        "if s==n :\n",
        "  print(\"perfect number\")\n",
        "else:\n",
        "  print(\"not perfect number\")"
      ],
      "metadata": {
        "colab": {
          "base_uri": "https://localhost:8080/"
        },
        "id": "NGrp13mgG48X",
        "outputId": "9dc74376-520a-492f-e807-209cf545b558"
      },
      "execution_count": 37,
      "outputs": [
        {
          "output_type": "stream",
          "name": "stdout",
          "text": [
            "enter a number :6\n",
            "perfect number\n"
          ]
        }
      ]
    },
    {
      "cell_type": "code",
      "source": [
        "#16 prefact square or not\n",
        "# 81 is perfact squre 9*9\n",
        "n=\n",
        "\n"
      ],
      "metadata": {
        "id": "xFHvwviRLV13"
      },
      "execution_count": null,
      "outputs": []
    },
    {
      "cell_type": "code",
      "source": [
        "#17 harshad number\n",
        "#21 2+1 =3 if is 21 is divisiable by (3)sum of the digits\n",
        "\n",
        "n=int(input(\"enter the number\"))\n",
        "s=0\n",
        "t=n\n",
        "while n>0:\n",
        "  x=n%10\n",
        "  s=s+x\n",
        "  n=n//10\n",
        "if t%s==0:\n",
        "  print(\"harshad no\")\n",
        "else:\n",
        "  print(\"not a harshad no\")"
      ],
      "metadata": {
        "id": "7FMpu4GodHeX"
      },
      "execution_count": null,
      "outputs": []
    },
    {
      "cell_type": "code",
      "source": [
        "#18 abundunt number\n",
        "# the sum of factor of given number is greater the given number\n",
        "#12  1+2+3+4+6=16  12 is also a factor of 12 but we ignore\n",
        "n= int(input(\"enter the number\"))\n",
        "s=0\n",
        "t=n\n",
        "while n>0:\n",
        "  for i in range (1,n):\n",
        "    r=n%i\n",
        "    if r==0:\n",
        "      s=s+i\n",
        "if s>t:\n",
        "  print(\"abundunt no\")\n",
        "else:\n",
        "  print(\"not a abundunt no\")\n"
      ],
      "metadata": {
        "id": "Z-aREQdwmuQR"
      },
      "execution_count": null,
      "outputs": []
    },
    {
      "cell_type": "code",
      "source": [
        "#19 friendly pairs"
      ],
      "metadata": {
        "id": "wSzHvHMsqjRA"
      },
      "execution_count": null,
      "outputs": []
    },
    {
      "cell_type": "code",
      "source": [
        "#20 hcf of 2 numbers\n",
        "\n",
        "\n",
        "n1=int(input(\"enter the 1st number:\"))\n",
        "n2=int(input(\"enter the 2nd number:\"))\n",
        "a=n1\n",
        "b=n2\n",
        "while n1!=n2:\n",
        "  if n1>n2:\n",
        "    n1=n1-n2\n",
        "  else:\n",
        "    n2=n2-n1\n",
        "print(n1)\n"
      ],
      "metadata": {
        "id": "MGJeg8jgFcyG",
        "colab": {
          "base_uri": "https://localhost:8080/"
        },
        "outputId": "455492e0-f479-406f-c71e-aba310680eb0"
      },
      "execution_count": null,
      "outputs": [
        {
          "output_type": "stream",
          "name": "stdout",
          "text": [
            "enter the 1st number:2\n",
            "enter the 2nd number:3\n",
            "1\n"
          ]
        }
      ]
    },
    {
      "cell_type": "code",
      "source": [
        "#21 lcm of 2 numbers\n",
        "\n",
        "\n",
        "n1=int(input(\"enter the 1st number:\"))\n",
        "n2=int(input(\"enter the 2nd number:\"))\n",
        "for i in range(max(n1,n2),1+(n1*n2)):\n",
        "  if i%n1==i%n2==0:\n",
        "    lcm=i\n",
        "    break\n",
        "print(lcm)\n"
      ],
      "metadata": {
        "id": "Y2EXUDJ_G6TG",
        "colab": {
          "base_uri": "https://localhost:8080/"
        },
        "outputId": "184293f6-c1d2-428b-960d-36fdacf288bd"
      },
      "execution_count": null,
      "outputs": [
        {
          "output_type": "stream",
          "name": "stdout",
          "text": [
            "enter the 1st number:2\n",
            "enter the 2nd number:7\n",
            "14\n"
          ]
        }
      ]
    },
    {
      "cell_type": "code",
      "source": [
        "#22 gcd greatest common divisor\n",
        "#hcf and gcd  both are same\n",
        "\n",
        "\n",
        "n1=int(input(\"enter the 1st number:\"))\n",
        "n2=int(input(\"enter the 2nd number:\"))\n",
        "a=n1\n",
        "b=n2\n",
        "while n1!=n2:\n",
        "  if n1>n2:\n",
        "    n1=n1-n2\n",
        "  else:\n",
        "    n2=n2-n1\n",
        "print(n1)\n"
      ],
      "metadata": {
        "id": "ZcmAsQtWHOWz",
        "colab": {
          "base_uri": "https://localhost:8080/"
        },
        "outputId": "0d826ee2-db68-4510-b43f-27cb213a1def"
      },
      "execution_count": null,
      "outputs": [
        {
          "output_type": "stream",
          "name": "stdout",
          "text": [
            "enter the 1st number:3\n",
            "enter the 2nd number:9\n",
            "3\n"
          ]
        }
      ]
    },
    {
      "cell_type": "code",
      "source": [
        "#23 binary to decimal"
      ],
      "metadata": {
        "id": "A4k0rymqHmLe"
      },
      "execution_count": null,
      "outputs": []
    },
    {
      "cell_type": "code",
      "source": [
        "#24 octal to decimal"
      ],
      "metadata": {
        "id": "6FflxTPyIJTt"
      },
      "execution_count": null,
      "outputs": []
    },
    {
      "cell_type": "code",
      "source": [
        "#25 decimal to hexadecimal"
      ],
      "metadata": {
        "id": "QslzfmJdIqEP"
      },
      "execution_count": null,
      "outputs": []
    },
    {
      "cell_type": "code",
      "source": [
        "#26 decimal to octal"
      ],
      "metadata": {
        "id": "RivMXiwoI3f9"
      },
      "execution_count": null,
      "outputs": []
    },
    {
      "cell_type": "code",
      "source": [
        "#27 decimal to binary"
      ],
      "metadata": {
        "id": "Zt7n9au-JInV"
      },
      "execution_count": null,
      "outputs": []
    },
    {
      "cell_type": "code",
      "source": [
        "#28 hexadecimal to decimal"
      ],
      "metadata": {
        "id": "2Q-zQPJQJV9M"
      },
      "execution_count": null,
      "outputs": []
    },
    {
      "cell_type": "code",
      "source": [
        "#29 find maximam no of handshakes"
      ],
      "metadata": {
        "id": "9z16dXYpJbTu"
      },
      "execution_count": null,
      "outputs": []
    },
    {
      "cell_type": "code",
      "source": [
        "#30 area of the circle\n",
        "# area of the circle pi r**2\n",
        "\n",
        "r=int(input(\"enter the radius:\"))\n",
        "area=3.14*r**2\n",
        "circumference=2*3.14*r\n",
        "print(area)\n",
        "print(circumference)"
      ],
      "metadata": {
        "id": "7gEW2WAqKJYQ",
        "colab": {
          "base_uri": "https://localhost:8080/"
        },
        "outputId": "8e31bd24-90b7-4930-a30c-5e770bf91443"
      },
      "execution_count": null,
      "outputs": [
        {
          "output_type": "stream",
          "name": "stdout",
          "text": [
            "enter the radius:5\n",
            "78.5\n",
            "31.400000000000002\n"
          ]
        }
      ]
    },
    {
      "cell_type": "code",
      "source": [
        "#31 find prime numbers between 1 t0 100\n",
        "n=100\n",
        "for i in range (2,n+1):\n",
        "  f=0\n",
        "  for j in range (1,i+1):\n",
        "    if i%j==0:\n",
        "      f=f+1\n",
        "  if f==2:\n",
        "    print(i, end=\" \")\n",
        "\n",
        "\n",
        "\n"
      ],
      "metadata": {
        "colab": {
          "base_uri": "https://localhost:8080/"
        },
        "id": "bcSRyRH_F6py",
        "outputId": "1151af97-e80f-4628-e344-308106a28d06"
      },
      "execution_count": null,
      "outputs": [
        {
          "output_type": "stream",
          "name": "stdout",
          "text": [
            "2 3 5 7 11 13 17 19 23 29 31 37 41 43 47 53 59 61 67 71 73 79 83 89 97 "
          ]
        }
      ]
    },
    {
      "cell_type": "code",
      "source": [
        "#32 no of days in a month\n",
        "#arr no. of days =[31,28,31,30,31,30,31,31,30,31,30,31]\n",
        "\n",
        "year=int(input(\"enter the year\"))\n",
        "month=int(input(\"enter the month\"))\n",
        "if (month==2) and (year%400==0) or (year%4==0 and year%100!=0):\n",
        "  print(\"no. of days is 29\")\n",
        "elif month==2:\n",
        "  print(\"no of days 28\")\n",
        "elif (month==1 or month==3 or month==5 or month==7 or month==8 or month==10 or month==12):\n",
        "  print(\"no of days 31\")\n",
        "else:\n",
        "  print(\"no of days 30\")\n",
        "\n",
        "\n",
        "\n",
        "\n",
        "\n",
        "\n",
        "# another method\n",
        "year = int(input(\"Enter the year: \"))\n",
        "month = int(input(\"Enter the month (1-12): \"))  # Input month as an integer\n",
        "\n",
        "# Check if it's a leap year\n",
        "if (year % 4 == 0 and year % 100 != 0) or (year % 400 == 0):\n",
        "    leap_year = True\n",
        "else:\n",
        "    leap_year = False\n",
        "\n",
        "# Define the number of days in each month\n",
        "days_in_month = [31, 28 + leap_year, 31, 30, 31, 30, 31, 31, 30, 31, 30, 31]\n",
        "\n",
        "# Check if the input month is within range\n",
        "if month < 1 or month > 12:\n",
        "    print(\"Invalid month entered. Please enter a month between 1 and 12.\")\n",
        "else:\n",
        "    # Retrieve the number of days from the list (adjust month to 0-indexed)\n",
        "    num_days = days_in_month[month - 1]\n",
        "    print(f\"Number of days in {month}/{year} is: {num_days}\")\n"
      ],
      "metadata": {
        "colab": {
          "base_uri": "https://localhost:8080/"
        },
        "id": "w1fd2m4R6dth",
        "outputId": "a30aa995-a16e-43be-f275-b2b0325c8d90"
      },
      "execution_count": null,
      "outputs": [
        {
          "output_type": "stream",
          "name": "stdout",
          "text": [
            "enter the year2004\n",
            "enter the month2\n",
            "no. of days is 29\n",
            "Enter the year: 2024\n",
            "Enter the month (1-12): 2\n",
            "Number of days in 2/2024 is: 29\n"
          ]
        }
      ]
    },
    {
      "cell_type": "code",
      "source": [
        "#33 power of number using using recursion\n",
        "def power(base,exponent):\n",
        "  if exponent==0:\n",
        "    return 1\n",
        "  else :\n",
        "    return base*power(base,exponent-1)\n",
        "base=int(input(\"enter the base value:\"))\n",
        "exponent=int(input(\"enter the exponent value:\"))\n",
        "\n",
        "print( power(base,exponent))"
      ],
      "metadata": {
        "id": "CXz3yEqsa2gm",
        "colab": {
          "base_uri": "https://localhost:8080/"
        },
        "outputId": "51433897-76ca-45b1-aad0-f6d530077354"
      },
      "execution_count": null,
      "outputs": [
        {
          "output_type": "stream",
          "name": "stdout",
          "text": [
            "enter the base value:6\n",
            "enter the exponent value:3\n",
            "216\n"
          ]
        }
      ]
    }
  ]
}